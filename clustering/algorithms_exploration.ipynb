{
 "cells": [
  {
   "cell_type": "code",
   "execution_count": 1,
   "id": "808701a3",
   "metadata": {},
   "outputs": [],
   "source": [
    "from pathlib import Path\n",
    "import pandas as pd\n",
    "\n",
    "datasets_dir = Path(\"/Users/felipecolombelli/phd/liver-plastic/datasets\")\n",
    "hepg2_path = datasets_dir / \"hepg2\"\n",
    "\n",
    "p1_path = hepg2_path / \"df_SingleCell_AO_HEPG2_102912.csv\"\n",
    "p2_path = hepg2_path / \"df_SingleCell_AO_HEPG2_110341.csv\"\n",
    "p3_path = hepg2_path / \"df_SingleCell_AO_HEPG2_231222.csv\""
   ]
  },
  {
   "cell_type": "code",
   "execution_count": 4,
   "id": "b17023cb",
   "metadata": {},
   "outputs": [
    {
     "name": "stderr",
     "output_type": "stream",
     "text": [
      "/var/folders/y0/4x3gw6nd719656v3qzk039m00000gp/T/ipykernel_33340/3047215710.py:1: DtypeWarning: Columns (1637) have mixed types. Specify dtype option on import or set low_memory=False.\n",
      "  df1 = pd.read_csv(p1_path)\n"
     ]
    },
    {
     "data": {
      "text/plain": [
       "(45596, 1639)"
      ]
     },
     "execution_count": 4,
     "metadata": {},
     "output_type": "execute_result"
    }
   ],
   "source": [
    "df1 = pd.read_csv(p1_path)\n",
    "df1.shape"
   ]
  },
  {
   "cell_type": "code",
   "execution_count": null,
   "id": "629a40f4",
   "metadata": {},
   "outputs": [],
   "source": []
  }
 ],
 "metadata": {
  "kernelspec": {
   "display_name": ".venv",
   "language": "python",
   "name": "python3"
  },
  "language_info": {
   "codemirror_mode": {
    "name": "ipython",
    "version": 3
   },
   "file_extension": ".py",
   "mimetype": "text/x-python",
   "name": "python",
   "nbconvert_exporter": "python",
   "pygments_lexer": "ipython3",
   "version": "3.10.16"
  }
 },
 "nbformat": 4,
 "nbformat_minor": 5
}
